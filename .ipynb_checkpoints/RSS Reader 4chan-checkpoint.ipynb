{
 "cells": [
  {
   "cell_type": "code",
   "execution_count": 3,
   "metadata": {},
   "outputs": [
    {
     "name": "stdout",
     "output_type": "stream",
     "text": [
      "Pages:  11\n",
      "Titles per page:  15\n",
      "------------------\n",
      "Page 1, Post 2, Category [g]: \n",
      "Thread #:  71851895\n",
      "Thread Poster:  Anonymous\n",
      "Thread Replies:  176\n",
      "Thread Comment:  https://www.youtube.com/watch?v=8gw<wbr>0rXPMMPE<br><br>How excited are we Winbros?\n"
     ]
    }
   ],
   "source": [
    "#4chan API LINK \n",
    "#https://github.com/4chan/4chan-API\n",
    "import json\n",
    "import requests\n",
    "\n",
    "cat = 'g'\n",
    "page = 1\n",
    "thread = 2\n",
    "\n",
    "response = requests.get('https://a.4cdn.org/{0}/catalog.json'.format(cat))\n",
    "results = response.json()\n",
    "\n",
    "################################################################################################################\n",
    "#[x] = page\n",
    "#[y] = current thread on page\n",
    "\n",
    "#//////////////////////////////\n",
    "#       [x]           [y]    //\n",
    "#results[0]['threads'][1]    //\n",
    "#//////////////////////////////\n",
    "################################################################################################################\n",
    "\n",
    "#['threads'] = sub-list of threads for each page\n",
    "#['no'] = thread # for refrence to link for RSS feed (http://boards.4channel.org/BOARD_NAME/thread/THREAD_#_HERE)\n",
    "#['com'] = Comment\n",
    "#['sub'] = Subject\n",
    "#['name'] = Username?\n",
    "#['replies'] = Replies\n",
    "\n",
    "################################################################################################################\n",
    "\n",
    "\n",
    "print(\"Pages: \", len(results))\n",
    "print(\"Titles per page: \", len(results[0]['threads'])) #note the api only seems to pull top 15 off page?\n",
    "print(\"------------------\")\n",
    "print(\"Page {0}, Post {1}, Category [{2}]: \".format(page, thread, cat))\n",
    "print(\"Thread #: \", results[page]['threads'][thread]['no'])\n",
    "print(\"Thread Poster: \", results[page]['threads'][thread]['name'])\n",
    "print(\"Thread Replies: \", results[page]['threads'][thread]['replies'])\n",
    "print(\"Thread Comment: \", results[page]['threads'][thread]['com'])\n",
    "\n",
    "\n",
    "#Notes:\n",
    "\n",
    "# The first thread on page one is the rules thread, so always skip it.\n",
    "# The API seems to only pull 15 titles per page.\n",
    "# You need to clean the comment thats put in the feed because it almost always contains raw html\n",
    "# Same thing for the subject.\n",
    "# We started on Page 1, Post 2 because it was pretty ;)\n"
   ]
  }
 ],
 "metadata": {
  "kernelspec": {
   "display_name": "Python 3",
   "language": "python",
   "name": "python3"
  },
  "language_info": {
   "codemirror_mode": {
    "name": "ipython",
    "version": 3
   },
   "file_extension": ".py",
   "mimetype": "text/x-python",
   "name": "python",
   "nbconvert_exporter": "python",
   "pygments_lexer": "ipython3",
   "version": "3.7.2"
  }
 },
 "nbformat": 4,
 "nbformat_minor": 2
}
